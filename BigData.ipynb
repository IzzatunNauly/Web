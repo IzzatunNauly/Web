{
  "nbformat": 4,
  "nbformat_minor": 0,
  "metadata": {
    "colab": {
      "provenance": [],
      "authorship_tag": "ABX9TyMmfWGtT3MEw6jss9tGL2IB",
      "include_colab_link": true
    },
    "kernelspec": {
      "name": "python3",
      "display_name": "Python 3"
    },
    "language_info": {
      "name": "python"
    }
  },
  "cells": [
    {
      "cell_type": "markdown",
      "metadata": {
        "id": "view-in-github",
        "colab_type": "text"
      },
      "source": [
        "<a href=\"https://colab.research.google.com/github/IzzatunNauly/Web/blob/master/BigData.ipynb\" target=\"_parent\"><img src=\"https://colab.research.google.com/assets/colab-badge.svg\" alt=\"Open In Colab\"/></a>"
      ]
    },
    {
      "cell_type": "markdown",
      "source": [
        "# Spark Random Forest Classifier"
      ],
      "metadata": {
        "id": "XnAGfidIcNi3"
      }
    },
    {
      "cell_type": "markdown",
      "source": [
        "Kode tersebut adalah perintah untuk menginstal pustaka atau modul \"pyspark\" menggunakan pip, yang merupakan manajer paket Python."
      ],
      "metadata": {
        "id": "j7_2tPj2XuFh"
      }
    },
    {
      "cell_type": "code",
      "source": [
        "pip install pyspark"
      ],
      "metadata": {
        "colab": {
          "base_uri": "https://localhost:8080/"
        },
        "id": "2DB9IUkMKe_V",
        "outputId": "792bfb56-73c9-46c5-99ab-fabf66626b32"
      },
      "execution_count": 14,
      "outputs": [
        {
          "output_type": "stream",
          "name": "stdout",
          "text": [
            "Looking in indexes: https://pypi.org/simple, https://us-python.pkg.dev/colab-wheels/public/simple/\n",
            "Collecting pyspark\n",
            "  Downloading pyspark-3.4.0.tar.gz (310.8 MB)\n",
            "\u001b[2K     \u001b[90m━━━━━━━━━━━━━━━━━━━━━━━━━━━━━━━━━━━━━━━\u001b[0m \u001b[32m310.8/310.8 MB\u001b[0m \u001b[31m5.3 MB/s\u001b[0m eta \u001b[36m0:00:00\u001b[0m\n",
            "\u001b[?25h  Preparing metadata (setup.py) ... \u001b[?25l\u001b[?25hdone\n",
            "Requirement already satisfied: py4j==0.10.9.7 in /usr/local/lib/python3.10/dist-packages (from pyspark) (0.10.9.7)\n",
            "Building wheels for collected packages: pyspark\n",
            "  Building wheel for pyspark (setup.py) ... \u001b[?25l\u001b[?25hdone\n",
            "  Created wheel for pyspark: filename=pyspark-3.4.0-py2.py3-none-any.whl size=311317130 sha256=ae76ba969aa14ce022583c273057aca754a2dea1bc0a683ac79e804b3e8084ec\n",
            "  Stored in directory: /root/.cache/pip/wheels/7b/1b/4b/3363a1d04368e7ff0d408e57ff57966fcdf00583774e761327\n",
            "Successfully built pyspark\n",
            "Installing collected packages: pyspark\n",
            "Successfully installed pyspark-3.4.0\n"
          ]
        }
      ]
    },
    {
      "cell_type": "markdown",
      "source": [
        "Kode tersebut mengimpor kelas SparkSession dari modul pyspark.sql dan mengimpor modul functions dari pyspark.sql dengan alias F."
      ],
      "metadata": {
        "id": "vL3ZiHWaX0RM"
      }
    },
    {
      "cell_type": "code",
      "source": [
        "from pyspark.sql import SparkSession\n",
        "import pyspark.sql.functions as F"
      ],
      "metadata": {
        "id": "Uq4ifthcKBgQ"
      },
      "execution_count": 16,
      "outputs": []
    },
    {
      "cell_type": "markdown",
      "source": [
        "Kode tersebut membuat objek SparkSession dengan menggunakan metode builder dan metode getOrCreate(). Jika SparkSession sudah ada, maka akan mengembalikan yang sudah ada; jika tidak, maka akan membuat yang baru. Objek SparkSession digunakan untuk mengakses dan mengoperasikan fungsionalitas Spark SQL."
      ],
      "metadata": {
        "id": "bJIFD8dnX-h_"
      }
    },
    {
      "cell_type": "code",
      "source": [
        "spark = SparkSession.builder.getOrCreate()"
      ],
      "metadata": {
        "id": "twrrZqXHLTGX"
      },
      "execution_count": 18,
      "outputs": []
    },
    {
      "cell_type": "code",
      "source": [
        "from google.colab import drive\n",
        "drive.mount('/content/drive')"
      ],
      "metadata": {
        "colab": {
          "base_uri": "https://localhost:8080/"
        },
        "id": "FIWwiui0QvIU",
        "outputId": "ed06fbcc-6b2c-41f7-9173-cb3934a7bd5e"
      },
      "execution_count": 19,
      "outputs": [
        {
          "output_type": "stream",
          "name": "stdout",
          "text": [
            "Mounted at /content/drive\n"
          ]
        }
      ]
    },
    {
      "cell_type": "code",
      "source": [
        "import pandas as pd\n",
        "\n",
        "wbc = pd.read_csv('/content/drive/MyDrive/Mechine Learning /pima.csv')\n",
        "wbc.head()"
      ],
      "metadata": {
        "colab": {
          "base_uri": "https://localhost:8080/",
          "height": 206
        },
        "id": "amRExJMDQ2gK",
        "outputId": "d250a0f5-4b5a-4be7-940b-99474833db59"
      },
      "execution_count": 58,
      "outputs": [
        {
          "output_type": "execute_result",
          "data": {
            "text/plain": [
              "   preg  gluc  bp  st  insu   bmi   pedi  age  outcome\n",
              "0     6   148  72  35     0  33.6  0.627   50        1\n",
              "1     1    85  66  29     0  26.6  0.351   31        0\n",
              "2     8   183  64   0     0  23.3  0.672   32        1\n",
              "3     1    89  66  23    94  28.1  0.167   21        0\n",
              "4     0   137  40  35   168  43.1  2.288   33        1"
            ],
            "text/html": [
              "\n",
              "  <div id=\"df-add6c6c2-b54a-4a13-ba13-fe311eb7aff6\">\n",
              "    <div class=\"colab-df-container\">\n",
              "      <div>\n",
              "<style scoped>\n",
              "    .dataframe tbody tr th:only-of-type {\n",
              "        vertical-align: middle;\n",
              "    }\n",
              "\n",
              "    .dataframe tbody tr th {\n",
              "        vertical-align: top;\n",
              "    }\n",
              "\n",
              "    .dataframe thead th {\n",
              "        text-align: right;\n",
              "    }\n",
              "</style>\n",
              "<table border=\"1\" class=\"dataframe\">\n",
              "  <thead>\n",
              "    <tr style=\"text-align: right;\">\n",
              "      <th></th>\n",
              "      <th>preg</th>\n",
              "      <th>gluc</th>\n",
              "      <th>bp</th>\n",
              "      <th>st</th>\n",
              "      <th>insu</th>\n",
              "      <th>bmi</th>\n",
              "      <th>pedi</th>\n",
              "      <th>age</th>\n",
              "      <th>outcome</th>\n",
              "    </tr>\n",
              "  </thead>\n",
              "  <tbody>\n",
              "    <tr>\n",
              "      <th>0</th>\n",
              "      <td>6</td>\n",
              "      <td>148</td>\n",
              "      <td>72</td>\n",
              "      <td>35</td>\n",
              "      <td>0</td>\n",
              "      <td>33.6</td>\n",
              "      <td>0.627</td>\n",
              "      <td>50</td>\n",
              "      <td>1</td>\n",
              "    </tr>\n",
              "    <tr>\n",
              "      <th>1</th>\n",
              "      <td>1</td>\n",
              "      <td>85</td>\n",
              "      <td>66</td>\n",
              "      <td>29</td>\n",
              "      <td>0</td>\n",
              "      <td>26.6</td>\n",
              "      <td>0.351</td>\n",
              "      <td>31</td>\n",
              "      <td>0</td>\n",
              "    </tr>\n",
              "    <tr>\n",
              "      <th>2</th>\n",
              "      <td>8</td>\n",
              "      <td>183</td>\n",
              "      <td>64</td>\n",
              "      <td>0</td>\n",
              "      <td>0</td>\n",
              "      <td>23.3</td>\n",
              "      <td>0.672</td>\n",
              "      <td>32</td>\n",
              "      <td>1</td>\n",
              "    </tr>\n",
              "    <tr>\n",
              "      <th>3</th>\n",
              "      <td>1</td>\n",
              "      <td>89</td>\n",
              "      <td>66</td>\n",
              "      <td>23</td>\n",
              "      <td>94</td>\n",
              "      <td>28.1</td>\n",
              "      <td>0.167</td>\n",
              "      <td>21</td>\n",
              "      <td>0</td>\n",
              "    </tr>\n",
              "    <tr>\n",
              "      <th>4</th>\n",
              "      <td>0</td>\n",
              "      <td>137</td>\n",
              "      <td>40</td>\n",
              "      <td>35</td>\n",
              "      <td>168</td>\n",
              "      <td>43.1</td>\n",
              "      <td>2.288</td>\n",
              "      <td>33</td>\n",
              "      <td>1</td>\n",
              "    </tr>\n",
              "  </tbody>\n",
              "</table>\n",
              "</div>\n",
              "      <button class=\"colab-df-convert\" onclick=\"convertToInteractive('df-add6c6c2-b54a-4a13-ba13-fe311eb7aff6')\"\n",
              "              title=\"Convert this dataframe to an interactive table.\"\n",
              "              style=\"display:none;\">\n",
              "        \n",
              "  <svg xmlns=\"http://www.w3.org/2000/svg\" height=\"24px\"viewBox=\"0 0 24 24\"\n",
              "       width=\"24px\">\n",
              "    <path d=\"M0 0h24v24H0V0z\" fill=\"none\"/>\n",
              "    <path d=\"M18.56 5.44l.94 2.06.94-2.06 2.06-.94-2.06-.94-.94-2.06-.94 2.06-2.06.94zm-11 1L8.5 8.5l.94-2.06 2.06-.94-2.06-.94L8.5 2.5l-.94 2.06-2.06.94zm10 10l.94 2.06.94-2.06 2.06-.94-2.06-.94-.94-2.06-.94 2.06-2.06.94z\"/><path d=\"M17.41 7.96l-1.37-1.37c-.4-.4-.92-.59-1.43-.59-.52 0-1.04.2-1.43.59L10.3 9.45l-7.72 7.72c-.78.78-.78 2.05 0 2.83L4 21.41c.39.39.9.59 1.41.59.51 0 1.02-.2 1.41-.59l7.78-7.78 2.81-2.81c.8-.78.8-2.07 0-2.86zM5.41 20L4 18.59l7.72-7.72 1.47 1.35L5.41 20z\"/>\n",
              "  </svg>\n",
              "      </button>\n",
              "      \n",
              "  <style>\n",
              "    .colab-df-container {\n",
              "      display:flex;\n",
              "      flex-wrap:wrap;\n",
              "      gap: 12px;\n",
              "    }\n",
              "\n",
              "    .colab-df-convert {\n",
              "      background-color: #E8F0FE;\n",
              "      border: none;\n",
              "      border-radius: 50%;\n",
              "      cursor: pointer;\n",
              "      display: none;\n",
              "      fill: #1967D2;\n",
              "      height: 32px;\n",
              "      padding: 0 0 0 0;\n",
              "      width: 32px;\n",
              "    }\n",
              "\n",
              "    .colab-df-convert:hover {\n",
              "      background-color: #E2EBFA;\n",
              "      box-shadow: 0px 1px 2px rgba(60, 64, 67, 0.3), 0px 1px 3px 1px rgba(60, 64, 67, 0.15);\n",
              "      fill: #174EA6;\n",
              "    }\n",
              "\n",
              "    [theme=dark] .colab-df-convert {\n",
              "      background-color: #3B4455;\n",
              "      fill: #D2E3FC;\n",
              "    }\n",
              "\n",
              "    [theme=dark] .colab-df-convert:hover {\n",
              "      background-color: #434B5C;\n",
              "      box-shadow: 0px 1px 3px 1px rgba(0, 0, 0, 0.15);\n",
              "      filter: drop-shadow(0px 1px 2px rgba(0, 0, 0, 0.3));\n",
              "      fill: #FFFFFF;\n",
              "    }\n",
              "  </style>\n",
              "\n",
              "      <script>\n",
              "        const buttonEl =\n",
              "          document.querySelector('#df-add6c6c2-b54a-4a13-ba13-fe311eb7aff6 button.colab-df-convert');\n",
              "        buttonEl.style.display =\n",
              "          google.colab.kernel.accessAllowed ? 'block' : 'none';\n",
              "\n",
              "        async function convertToInteractive(key) {\n",
              "          const element = document.querySelector('#df-add6c6c2-b54a-4a13-ba13-fe311eb7aff6');\n",
              "          const dataTable =\n",
              "            await google.colab.kernel.invokeFunction('convertToInteractive',\n",
              "                                                     [key], {});\n",
              "          if (!dataTable) return;\n",
              "\n",
              "          const docLinkHtml = 'Like what you see? Visit the ' +\n",
              "            '<a target=\"_blank\" href=https://colab.research.google.com/notebooks/data_table.ipynb>data table notebook</a>'\n",
              "            + ' to learn more about interactive tables.';\n",
              "          element.innerHTML = '';\n",
              "          dataTable['output_type'] = 'display_data';\n",
              "          await google.colab.output.renderOutput(dataTable, element);\n",
              "          const docLink = document.createElement('div');\n",
              "          docLink.innerHTML = docLinkHtml;\n",
              "          element.appendChild(docLink);\n",
              "        }\n",
              "      </script>\n",
              "    </div>\n",
              "  </div>\n",
              "  "
            ]
          },
          "metadata": {},
          "execution_count": 58
        }
      ]
    },
    {
      "cell_type": "markdown",
      "source": [
        "Kode tersebut membuat DataFrame dengan menggunakan metode createDataFrame() dari objek SparkSession, dengan argumen wbc. Kemudian, kode tersebut memilih kolom \"outcome\" dari DataFrame df dan menampilkan isinya menggunakan metode show()."
      ],
      "metadata": {
        "id": "BvQ9Zb5cYXBf"
      }
    },
    {
      "cell_type": "code",
      "source": [
        "df = spark.createDataFrame(wbc)\n",
        "df.select(\"outcome\").show()"
      ],
      "metadata": {
        "colab": {
          "base_uri": "https://localhost:8080/"
        },
        "id": "Vz-TYqXeRb9B",
        "outputId": "5c2c379b-0c49-4a31-9b63-ec8f07f66d6b"
      },
      "execution_count": 27,
      "outputs": [
        {
          "output_type": "stream",
          "name": "stdout",
          "text": [
            "+-------+\n",
            "|outcome|\n",
            "+-------+\n",
            "|      1|\n",
            "|      0|\n",
            "|      1|\n",
            "|      0|\n",
            "|      1|\n",
            "|      0|\n",
            "|      1|\n",
            "|      0|\n",
            "|      1|\n",
            "|      1|\n",
            "|      0|\n",
            "|      1|\n",
            "|      0|\n",
            "|      1|\n",
            "|      1|\n",
            "|      1|\n",
            "|      1|\n",
            "|      1|\n",
            "|      0|\n",
            "|      1|\n",
            "+-------+\n",
            "only showing top 20 rows\n",
            "\n"
          ]
        }
      ]
    },
    {
      "cell_type": "markdown",
      "source": [
        "Kode tersebut menghitung jumlah baris atau entri dalam DataFrame df menggunakan metode count()."
      ],
      "metadata": {
        "id": "N1LdZYNcYl9J"
      }
    },
    {
      "cell_type": "code",
      "source": [
        "df.count()"
      ],
      "metadata": {
        "colab": {
          "base_uri": "https://localhost:8080/"
        },
        "id": "22dJPJhTSQT0",
        "outputId": "f443f2c2-f690-43e9-b52f-22b314059301"
      },
      "execution_count": 28,
      "outputs": [
        {
          "output_type": "execute_result",
          "data": {
            "text/plain": [
              "768"
            ]
          },
          "metadata": {},
          "execution_count": 28
        }
      ]
    },
    {
      "cell_type": "markdown",
      "source": [
        "Kode tersebut menghitung jumlah kolom dalam DataFrame df dengan menggunakan fungsi len() yang diterapkan pada atribut columns dari DataFrame tersebut."
      ],
      "metadata": {
        "id": "54wCiucYYm__"
      }
    },
    {
      "cell_type": "code",
      "source": [
        "len(df.columns)"
      ],
      "metadata": {
        "colab": {
          "base_uri": "https://localhost:8080/"
        },
        "id": "jWPXzIpMSdln",
        "outputId": "f3af4cfe-e567-49e8-e8c2-1395f41bc6ea"
      },
      "execution_count": 29,
      "outputs": [
        {
          "output_type": "execute_result",
          "data": {
            "text/plain": [
              "9"
            ]
          },
          "metadata": {},
          "execution_count": 29
        }
      ]
    },
    {
      "cell_type": "markdown",
      "source": [
        "Kode tersebut mencetak skema DataFrame df menggunakan metode printSchema(). Skema DataFrame adalah representasi struktural yang menunjukkan tipe data dan struktur kolom dalam DataFrame."
      ],
      "metadata": {
        "id": "qAOFQOJuYu1A"
      }
    },
    {
      "cell_type": "code",
      "source": [
        "df.printSchema()"
      ],
      "metadata": {
        "colab": {
          "base_uri": "https://localhost:8080/"
        },
        "id": "pty5ZOziSnbj",
        "outputId": "5b53bf7e-7a41-42b1-cae3-70715d730fee"
      },
      "execution_count": 30,
      "outputs": [
        {
          "output_type": "stream",
          "name": "stdout",
          "text": [
            "root\n",
            " |-- preg: long (nullable = true)\n",
            " |-- gluc: long (nullable = true)\n",
            " |-- bp: long (nullable = true)\n",
            " |-- st: long (nullable = true)\n",
            " |-- insu: long (nullable = true)\n",
            " |-- bmi: double (nullable = true)\n",
            " |-- pedi: double (nullable = true)\n",
            " |-- age: long (nullable = true)\n",
            " |-- outcome: long (nullable = true)\n",
            "\n"
          ]
        }
      ]
    },
    {
      "cell_type": "markdown",
      "source": [
        "Kode tersebut menghasilkan ringkasan statistik deskriptif dari DataFrame df menggunakan metode describe(). Kemudian, metode show() digunakan untuk menampilkan hasil ringkasan tersebut."
      ],
      "metadata": {
        "id": "WFIdeuq5Y3Rb"
      }
    },
    {
      "cell_type": "code",
      "source": [
        "df.describe().show()"
      ],
      "metadata": {
        "colab": {
          "base_uri": "https://localhost:8080/"
        },
        "id": "JGZKUXvJSqnr",
        "outputId": "7d0ac841-e5d3-4ebe-dd59-c1bfea59a271"
      },
      "execution_count": 31,
      "outputs": [
        {
          "output_type": "stream",
          "name": "stdout",
          "text": [
            "+-------+------------------+-----------------+------------------+------------------+------------------+------------------+------------------+------------------+------------------+\n",
            "|summary|              preg|             gluc|                bp|                st|              insu|               bmi|              pedi|               age|           outcome|\n",
            "+-------+------------------+-----------------+------------------+------------------+------------------+------------------+------------------+------------------+------------------+\n",
            "|  count|               768|              768|               768|               768|               768|               768|               768|               768|               768|\n",
            "|   mean|3.8450520833333335|     120.89453125|       69.10546875|20.536458333333332| 79.79947916666667|31.992578124999984|0.4718763020833327|33.240885416666664|0.3489583333333333|\n",
            "| stddev|3.3695780626988694|31.97261819513622|19.355807170644777|15.952217567727635|115.24400235133811| 7.884160320375445|0.3313285950127749|11.760231540678685|0.4769513772427988|\n",
            "|    min|                 0|                0|                 0|                 0|                 0|               0.0|             0.078|                21|                 0|\n",
            "|    max|                17|              199|               122|                99|               846|              67.1|              2.42|                81|                 1|\n",
            "+-------+------------------+-----------------+------------------+------------------+------------------+------------------+------------------+------------------+------------------+\n",
            "\n"
          ]
        }
      ]
    },
    {
      "cell_type": "markdown",
      "source": [
        "Kode tersebut mengembalikan lima baris pertama dari DataFrame df menggunakan metode head(5). Metode head(n) digunakan untuk mengambil n baris pertama dari DataFrame atau objek Dataset."
      ],
      "metadata": {
        "id": "H1qd4jALY8yt"
      }
    },
    {
      "cell_type": "code",
      "source": [
        "df.head(5)"
      ],
      "metadata": {
        "colab": {
          "base_uri": "https://localhost:8080/"
        },
        "id": "1kJNcSNVS1T7",
        "outputId": "c4ffe357-6b9f-4741-97c2-44c5debf1a0f"
      },
      "execution_count": 32,
      "outputs": [
        {
          "output_type": "execute_result",
          "data": {
            "text/plain": [
              "[Row(preg=6, gluc=148, bp=72, st=35, insu=0, bmi=33.6, pedi=0.627, age=50, outcome=1),\n",
              " Row(preg=1, gluc=85, bp=66, st=29, insu=0, bmi=26.6, pedi=0.351, age=31, outcome=0),\n",
              " Row(preg=8, gluc=183, bp=64, st=0, insu=0, bmi=23.3, pedi=0.672, age=32, outcome=1),\n",
              " Row(preg=1, gluc=89, bp=66, st=23, insu=94, bmi=28.1, pedi=0.167, age=21, outcome=0),\n",
              " Row(preg=0, gluc=137, bp=40, st=35, insu=168, bmi=43.1, pedi=2.288, age=33, outcome=1)]"
            ]
          },
          "metadata": {},
          "execution_count": 32
        }
      ]
    },
    {
      "cell_type": "markdown",
      "source": [
        "Kode tersebut melakukan operasi pengelompokan (group by) pada kolom \"outcome\" dalam DataFrame df. Kemudian, menggunakan metode count() untuk menghitung jumlah entri dalam setiap kelompok. Terakhir, metode show() digunakan untuk menampilkan hasilnya."
      ],
      "metadata": {
        "id": "jrZmihxlZBX_"
      }
    },
    {
      "cell_type": "code",
      "source": [
        "df.groupBy(\"outcome\").count().show()"
      ],
      "metadata": {
        "colab": {
          "base_uri": "https://localhost:8080/"
        },
        "id": "fpySHF9SS8ei",
        "outputId": "418a6395-12bb-4fc6-d7a3-0a59f19c9d8d"
      },
      "execution_count": 33,
      "outputs": [
        {
          "output_type": "stream",
          "name": "stdout",
          "text": [
            "+-------+-----+\n",
            "|outcome|count|\n",
            "+-------+-----+\n",
            "|      0|  500|\n",
            "|      1|  268|\n",
            "+-------+-----+\n",
            "\n"
          ]
        }
      ]
    },
    {
      "cell_type": "markdown",
      "source": [
        "Kode tersebut melakukan operasi pengelompokan (group by) pada kolom \"age\" dalam DataFrame df. Kemudian, menggunakan metode count() untuk menghitung jumlah entri dalam setiap kelompok usia. Terakhir, metode show() digunakan untuk menampilkan hasilnya."
      ],
      "metadata": {
        "id": "QYpstgUaZEC1"
      }
    },
    {
      "cell_type": "code",
      "source": [
        "df.groupBy(\"age\").count().show()"
      ],
      "metadata": {
        "colab": {
          "base_uri": "https://localhost:8080/"
        },
        "id": "-aJAoBvTTN3M",
        "outputId": "6e129952-3a41-47e6-8def-48cc6278e571"
      },
      "execution_count": 34,
      "outputs": [
        {
          "output_type": "stream",
          "name": "stdout",
          "text": [
            "+---+-----+\n",
            "|age|count|\n",
            "+---+-----+\n",
            "| 26|   33|\n",
            "| 29|   29|\n",
            "| 65|    3|\n",
            "| 54|    6|\n",
            "| 22|   72|\n",
            "| 34|   14|\n",
            "| 50|    8|\n",
            "| 57|    5|\n",
            "| 32|   16|\n",
            "| 43|   13|\n",
            "| 31|   24|\n",
            "| 39|   12|\n",
            "| 25|   48|\n",
            "| 58|    7|\n",
            "| 27|   32|\n",
            "| 63|    4|\n",
            "| 51|    8|\n",
            "| 56|    3|\n",
            "| 52|    8|\n",
            "| 41|   22|\n",
            "+---+-----+\n",
            "only showing top 20 rows\n",
            "\n"
          ]
        }
      ]
    },
    {
      "cell_type": "markdown",
      "source": [
        "Kode tersebut mengimpor kelas VectorAssembler dari modul pyspark.ml.feature. VectorAssembler adalah sebuah transformer yang menggabungkan beberapa kolom fitur menjadi sebuah vektor fitur tunggal dalam DataFrame, yang biasanya digunakan sebagai langkah persiapan data sebelum melatih model ML."
      ],
      "metadata": {
        "id": "wAQFIbJ3ZIuO"
      }
    },
    {
      "cell_type": "code",
      "source": [
        "from pyspark.ml.feature import VectorAssembler"
      ],
      "metadata": {
        "id": "nN2IZUihTeI2"
      },
      "execution_count": 35,
      "outputs": []
    },
    {
      "cell_type": "code",
      "source": [
        "df.columns"
      ],
      "metadata": {
        "colab": {
          "base_uri": "https://localhost:8080/"
        },
        "id": "7VF1mG4xTrVP",
        "outputId": "5bae05f1-4c5b-475d-f1ff-eff092557ff4"
      },
      "execution_count": 36,
      "outputs": [
        {
          "output_type": "execute_result",
          "data": {
            "text/plain": [
              "['preg', 'gluc', 'bp', 'st', 'insu', 'bmi', 'pedi', 'age', 'outcome']"
            ]
          },
          "metadata": {},
          "execution_count": 36
        }
      ]
    },
    {
      "cell_type": "markdown",
      "source": [
        "Kode tersebut membuat objek VectorAssembler dengan nama \"assemble\". Objek ini menggunakan kolom-kolom 'preg', 'gluc', 'bp', 'st', 'insu', 'bmi', 'pedi', dan 'age' sebagai inputCols, dan menggabungkannya menjadi sebuah vektor fitur tunggal dengan nama kolom \"features\" sebagai outputCol. VectorAssembler akan digunakan untuk menggabungkan kolom-kolom tersebut menjadi satu vektor fitur dalam DataFrame."
      ],
      "metadata": {
        "id": "2lGDH9itZeiV"
      }
    },
    {
      "cell_type": "code",
      "source": [
        "assemble = VectorAssembler(inputCols=['preg', 'gluc', 'bp', 'st', 'insu', 'bmi', 'pedi', 'age'],\n",
        "                                      outputCol=\"features\")"
      ],
      "metadata": {
        "id": "V06NRAKhTtrm"
      },
      "execution_count": 37,
      "outputs": []
    },
    {
      "cell_type": "markdown",
      "source": [
        "Variabel \"assemble\" adalah objek VectorAssembler yang telah dibuat sebelumnya. Objek ini dapat digunakan dalam tahap pemrosesan data atau dalam pipa pemrosesan data yang melibatkan penggabungan kolom menjadi vektor fitur tunggal dalam DataFrame."
      ],
      "metadata": {
        "id": "_VPwbdHfZnKa"
      }
    },
    {
      "cell_type": "code",
      "source": [
        "assemble"
      ],
      "metadata": {
        "colab": {
          "base_uri": "https://localhost:8080/"
        },
        "id": "ZjvDxgG1UbgD",
        "outputId": "e2f61d99-0682-44d2-c43e-59e67fde7c86"
      },
      "execution_count": 38,
      "outputs": [
        {
          "output_type": "execute_result",
          "data": {
            "text/plain": [
              "VectorAssembler_af8d83f2a873"
            ]
          },
          "metadata": {},
          "execution_count": 38
        }
      ]
    },
    {
      "cell_type": "markdown",
      "source": [
        "Kode tersebut menggunakan objek VectorAssembler \"assemble\" untuk mentransformasikan DataFrame \"df\". Transformasi ini menggabungkan kolom-kolom yang telah ditentukan menjadi sebuah vektor fitur tunggal dengan nama kolom \"features\". Hasil transformasi disimpan dalam variabel \"output\"."
      ],
      "metadata": {
        "id": "UWz8IjvWZrQ5"
      }
    },
    {
      "cell_type": "code",
      "source": [
        "output = assemble.transform(df)"
      ],
      "metadata": {
        "id": "WeMjy4oQUhHz"
      },
      "execution_count": 39,
      "outputs": []
    },
    {
      "cell_type": "code",
      "source": [
        "output.show()"
      ],
      "metadata": {
        "colab": {
          "base_uri": "https://localhost:8080/"
        },
        "id": "zqcp7Cg_Uuvf",
        "outputId": "664dc7b2-5091-4c36-8b62-7f684f0016ff"
      },
      "execution_count": 40,
      "outputs": [
        {
          "output_type": "stream",
          "name": "stdout",
          "text": [
            "+----+----+---+---+----+----+-----+---+-------+--------------------+\n",
            "|preg|gluc| bp| st|insu| bmi| pedi|age|outcome|            features|\n",
            "+----+----+---+---+----+----+-----+---+-------+--------------------+\n",
            "|   6| 148| 72| 35|   0|33.6|0.627| 50|      1|[6.0,148.0,72.0,3...|\n",
            "|   1|  85| 66| 29|   0|26.6|0.351| 31|      0|[1.0,85.0,66.0,29...|\n",
            "|   8| 183| 64|  0|   0|23.3|0.672| 32|      1|[8.0,183.0,64.0,0...|\n",
            "|   1|  89| 66| 23|  94|28.1|0.167| 21|      0|[1.0,89.0,66.0,23...|\n",
            "|   0| 137| 40| 35| 168|43.1|2.288| 33|      1|[0.0,137.0,40.0,3...|\n",
            "|   5| 116| 74|  0|   0|25.6|0.201| 30|      0|[5.0,116.0,74.0,0...|\n",
            "|   3|  78| 50| 32|  88|31.0|0.248| 26|      1|[3.0,78.0,50.0,32...|\n",
            "|  10| 115|  0|  0|   0|35.3|0.134| 29|      0|[10.0,115.0,0.0,0...|\n",
            "|   2| 197| 70| 45| 543|30.5|0.158| 53|      1|[2.0,197.0,70.0,4...|\n",
            "|   8| 125| 96|  0|   0| 0.0|0.232| 54|      1|[8.0,125.0,96.0,0...|\n",
            "|   4| 110| 92|  0|   0|37.6|0.191| 30|      0|[4.0,110.0,92.0,0...|\n",
            "|  10| 168| 74|  0|   0|38.0|0.537| 34|      1|[10.0,168.0,74.0,...|\n",
            "|  10| 139| 80|  0|   0|27.1|1.441| 57|      0|[10.0,139.0,80.0,...|\n",
            "|   1| 189| 60| 23| 846|30.1|0.398| 59|      1|[1.0,189.0,60.0,2...|\n",
            "|   5| 166| 72| 19| 175|25.8|0.587| 51|      1|[5.0,166.0,72.0,1...|\n",
            "|   7| 100|  0|  0|   0|30.0|0.484| 32|      1|[7.0,100.0,0.0,0....|\n",
            "|   0| 118| 84| 47| 230|45.8|0.551| 31|      1|[0.0,118.0,84.0,4...|\n",
            "|   7| 107| 74|  0|   0|29.6|0.254| 31|      1|[7.0,107.0,74.0,0...|\n",
            "|   1| 103| 30| 38|  83|43.3|0.183| 33|      0|[1.0,103.0,30.0,3...|\n",
            "|   1| 115| 70| 30|  96|34.6|0.529| 32|      1|[1.0,115.0,70.0,3...|\n",
            "+----+----+---+---+----+----+-----+---+-------+--------------------+\n",
            "only showing top 20 rows\n",
            "\n"
          ]
        }
      ]
    },
    {
      "cell_type": "markdown",
      "source": [
        "Kode tersebut memilih kolom \"features\" dan \"outcome\" dari DataFrame \"output\" dan menampilkannya menggunakan metode show(). Parameter truncate=False digunakan untuk menampilkan seluruh isi kolom tanpa memotong tampilannya."
      ],
      "metadata": {
        "id": "KDh_ZgJ2ZwjV"
      }
    },
    {
      "cell_type": "code",
      "source": [
        "output.select([\"features\", \"outcome\"]).show(truncate=False)"
      ],
      "metadata": {
        "colab": {
          "base_uri": "https://localhost:8080/"
        },
        "id": "BlYBXNYxUyfU",
        "outputId": "4c44e946-7654-47f1-9c5d-4acc67b6a89b"
      },
      "execution_count": 43,
      "outputs": [
        {
          "output_type": "stream",
          "name": "stdout",
          "text": [
            "+-------------------------------------------+-------+\n",
            "|features                                   |outcome|\n",
            "+-------------------------------------------+-------+\n",
            "|[6.0,148.0,72.0,35.0,0.0,33.6,0.627,50.0]  |1      |\n",
            "|[1.0,85.0,66.0,29.0,0.0,26.6,0.351,31.0]   |0      |\n",
            "|[8.0,183.0,64.0,0.0,0.0,23.3,0.672,32.0]   |1      |\n",
            "|[1.0,89.0,66.0,23.0,94.0,28.1,0.167,21.0]  |0      |\n",
            "|[0.0,137.0,40.0,35.0,168.0,43.1,2.288,33.0]|1      |\n",
            "|[5.0,116.0,74.0,0.0,0.0,25.6,0.201,30.0]   |0      |\n",
            "|[3.0,78.0,50.0,32.0,88.0,31.0,0.248,26.0]  |1      |\n",
            "|[10.0,115.0,0.0,0.0,0.0,35.3,0.134,29.0]   |0      |\n",
            "|[2.0,197.0,70.0,45.0,543.0,30.5,0.158,53.0]|1      |\n",
            "|[8.0,125.0,96.0,0.0,0.0,0.0,0.232,54.0]    |1      |\n",
            "|[4.0,110.0,92.0,0.0,0.0,37.6,0.191,30.0]   |0      |\n",
            "|[10.0,168.0,74.0,0.0,0.0,38.0,0.537,34.0]  |1      |\n",
            "|[10.0,139.0,80.0,0.0,0.0,27.1,1.441,57.0]  |0      |\n",
            "|[1.0,189.0,60.0,23.0,846.0,30.1,0.398,59.0]|1      |\n",
            "|[5.0,166.0,72.0,19.0,175.0,25.8,0.587,51.0]|1      |\n",
            "|[7.0,100.0,0.0,0.0,0.0,30.0,0.484,32.0]    |1      |\n",
            "|[0.0,118.0,84.0,47.0,230.0,45.8,0.551,31.0]|1      |\n",
            "|[7.0,107.0,74.0,0.0,0.0,29.6,0.254,31.0]   |1      |\n",
            "|[1.0,103.0,30.0,38.0,83.0,43.3,0.183,33.0] |0      |\n",
            "|[1.0,115.0,70.0,30.0,96.0,34.6,0.529,32.0] |1      |\n",
            "+-------------------------------------------+-------+\n",
            "only showing top 20 rows\n",
            "\n"
          ]
        }
      ]
    },
    {
      "cell_type": "markdown",
      "source": [
        "Kode tersebut membuat DataFrame baru dengan nama \"model_df\" yang berisi kolom \"features\" dan \"outcome\" dari DataFrame \"output\". DataFrame ini biasanya digunakan sebagai input untuk melatih atau membangun model machine learning."
      ],
      "metadata": {
        "id": "ec_PrqalZ0v4"
      }
    },
    {
      "cell_type": "code",
      "source": [
        "model_df = output.select([\"features\", \"outcome\"])"
      ],
      "metadata": {
        "id": "eiM3Z4oTVXBw"
      },
      "execution_count": 44,
      "outputs": []
    },
    {
      "cell_type": "code",
      "source": [
        "model_df.show()"
      ],
      "metadata": {
        "colab": {
          "base_uri": "https://localhost:8080/"
        },
        "id": "pq10BR7jVmMz",
        "outputId": "9649ea3b-0efc-4d64-c8e2-ecd89ccb4b60"
      },
      "execution_count": 45,
      "outputs": [
        {
          "output_type": "stream",
          "name": "stdout",
          "text": [
            "+--------------------+-------+\n",
            "|            features|outcome|\n",
            "+--------------------+-------+\n",
            "|[6.0,148.0,72.0,3...|      1|\n",
            "|[1.0,85.0,66.0,29...|      0|\n",
            "|[8.0,183.0,64.0,0...|      1|\n",
            "|[1.0,89.0,66.0,23...|      0|\n",
            "|[0.0,137.0,40.0,3...|      1|\n",
            "|[5.0,116.0,74.0,0...|      0|\n",
            "|[3.0,78.0,50.0,32...|      1|\n",
            "|[10.0,115.0,0.0,0...|      0|\n",
            "|[2.0,197.0,70.0,4...|      1|\n",
            "|[8.0,125.0,96.0,0...|      1|\n",
            "|[4.0,110.0,92.0,0...|      0|\n",
            "|[10.0,168.0,74.0,...|      1|\n",
            "|[10.0,139.0,80.0,...|      0|\n",
            "|[1.0,189.0,60.0,2...|      1|\n",
            "|[5.0,166.0,72.0,1...|      1|\n",
            "|[7.0,100.0,0.0,0....|      1|\n",
            "|[0.0,118.0,84.0,4...|      1|\n",
            "|[7.0,107.0,74.0,0...|      1|\n",
            "|[1.0,103.0,30.0,3...|      0|\n",
            "|[1.0,115.0,70.0,3...|      1|\n",
            "+--------------------+-------+\n",
            "only showing top 20 rows\n",
            "\n"
          ]
        }
      ]
    },
    {
      "cell_type": "markdown",
      "source": [
        "Kode tersebut membagi DataFrame \"model_df\" menjadi dua bagian, yaitu \"training_df\" dan \"test_df\", menggunakan metode randomSplit(). Proporsi pembagian ditentukan oleh argumen [0.7, 0.3], di mana 0.7 adalah proporsi untuk \"training_df\" dan 0.3 adalah proporsi untuk \"test_df\". Pembagian ini umumnya dilakukan untuk memisahkan data menjadi data pelatihan (training data) dan data pengujian (test data) dalam pemodelan machine learning."
      ],
      "metadata": {
        "id": "5t2o6YsFaDtY"
      }
    },
    {
      "cell_type": "code",
      "source": [
        "training_df, test_df = model_df.randomSplit([0.7, 0.3])"
      ],
      "metadata": {
        "id": "4xQUNUKqVq7-"
      },
      "execution_count": 46,
      "outputs": []
    },
    {
      "cell_type": "markdown",
      "source": [
        "Kode tersebut mencetak jumlah baris dalam DataFrame \"training_df\" menggunakan metode count(). Jumlah baris ini mengindikasikan banyaknya data yang ada dalam data pelatihan."
      ],
      "metadata": {
        "id": "iUapImHFaG7L"
      }
    },
    {
      "cell_type": "code",
      "source": [
        "print(training_df.count())"
      ],
      "metadata": {
        "colab": {
          "base_uri": "https://localhost:8080/"
        },
        "id": "X_3K0soMV7fg",
        "outputId": "093e2c08-97bc-40f1-804b-5df3102a0289"
      },
      "execution_count": 47,
      "outputs": [
        {
          "output_type": "stream",
          "name": "stdout",
          "text": [
            "546\n"
          ]
        }
      ]
    },
    {
      "cell_type": "markdown",
      "source": [
        "Kode tersebut mencetak jumlah baris dalam DataFrame \"test_df\" menggunakan metode count(). Jumlah baris ini mengindikasikan banyaknya data yang ada dalam data pengujian."
      ],
      "metadata": {
        "id": "bgq0Z6tnaNVF"
      }
    },
    {
      "cell_type": "code",
      "source": [
        "print(test_df.count())"
      ],
      "metadata": {
        "colab": {
          "base_uri": "https://localhost:8080/"
        },
        "id": "Djz-VgJFV_wG",
        "outputId": "249e6178-6510-48a6-d6d9-f55ba6cbcca0"
      },
      "execution_count": 48,
      "outputs": [
        {
          "output_type": "stream",
          "name": "stdout",
          "text": [
            "222\n"
          ]
        }
      ]
    },
    {
      "cell_type": "markdown",
      "source": [
        "Kode tersebut mengimpor kelas RandomForestClassifier dari modul pyspark.ml.classification. RandomForestClassifier adalah salah satu algoritma klasifikasi yang menggunakan ensemble learning dan membangun sejumlah pohon keputusan acak (randomized decision trees) untuk membuat prediksi kelas."
      ],
      "metadata": {
        "id": "ZYEZs_GWaSCX"
      }
    },
    {
      "cell_type": "code",
      "source": [
        "from pyspark.ml.classification import RandomForestClassifier"
      ],
      "metadata": {
        "id": "pW_RhJFtWFJE"
      },
      "execution_count": 49,
      "outputs": []
    },
    {
      "cell_type": "markdown",
      "source": [
        "Kode tersebut membuat objek RandomForestClassifier dengan nama \"rf_classifier\". Objek ini menggunakan kolom \"outcome\" sebagai labelCol (kolom target) dan menggunakan 50 pohon keputusan acak (numTrees=50). Selanjutnya, objek RandomForestClassifier dilatih (fit) dengan menggunakan DataFrame \"training_df\". Hasilnya adalah model RandomForestClassifier yang siap digunakan untuk melakukan prediksi."
      ],
      "metadata": {
        "id": "1wYuCg7OaY0S"
      }
    },
    {
      "cell_type": "code",
      "source": [
        "rf_classifier = RandomForestClassifier(labelCol=\"outcome\",\n",
        "                                       numTrees=50).fit(training_df)"
      ],
      "metadata": {
        "id": "qWMgsisAWR44"
      },
      "execution_count": 50,
      "outputs": []
    },
    {
      "cell_type": "markdown",
      "source": [
        "Kode tersebut menggunakan model RandomForestClassifier \"rf_classifier\" untuk melakukan prediksi pada DataFrame \"test_df\". Prediksi dilakukan dengan menggunakan metode transform(), dan hasilnya disimpan dalam variabel \"rf_prediction\". DataFrame \"rf_prediction\" akan berisi kolom-kolom asli dari \"test_df\" serta kolom-kolom tambahan yang berisi prediksi yang dihasilkan oleh model."
      ],
      "metadata": {
        "id": "dytzUWx_ak3a"
      }
    },
    {
      "cell_type": "code",
      "source": [
        "rf_prediction =rf_classifier.transform(test_df)"
      ],
      "metadata": {
        "id": "a5LaJHhOWljJ"
      },
      "execution_count": 51,
      "outputs": []
    },
    {
      "cell_type": "code",
      "source": [
        "rf_prediction.show()"
      ],
      "metadata": {
        "colab": {
          "base_uri": "https://localhost:8080/"
        },
        "id": "_Kpgx_mfWuzR",
        "outputId": "88f96445-b6f5-453f-d008-3432cacfdc82"
      },
      "execution_count": 52,
      "outputs": [
        {
          "output_type": "stream",
          "name": "stdout",
          "text": [
            "+--------------------+-------+--------------------+--------------------+----------+\n",
            "|            features|outcome|       rawPrediction|         probability|prediction|\n",
            "+--------------------+-------+--------------------+--------------------+----------+\n",
            "|(8,[1,5,6,7],[131...|      1|[26.2946690169809...|[0.52589338033961...|       0.0|\n",
            "|[0.0,86.0,68.0,32...|      0|[44.9392779227129...|[0.89878555845425...|       0.0|\n",
            "|[0.0,95.0,85.0,25...|      1|[45.1360241315976...|[0.90272048263195...|       0.0|\n",
            "|[0.0,98.0,82.0,15...|      0|[48.0660076121722...|[0.96132015224344...|       0.0|\n",
            "|[0.0,100.0,88.0,6...|      0|[28.0078214880360...|[0.56015642976072...|       0.0|\n",
            "|[0.0,101.0,64.0,1...|      0|[48.0319025162693...|[0.96063805032538...|       0.0|\n",
            "|[0.0,102.0,75.0,2...|      0|[46.8038512229447...|[0.93607702445889...|       0.0|\n",
            "|[0.0,104.0,76.0,0...|      0|[46.0033616324806...|[0.92006723264961...|       0.0|\n",
            "|[0.0,106.0,70.0,3...|      0|[39.1130422525011...|[0.78226084505002...|       0.0|\n",
            "|[0.0,109.0,88.0,3...|      1|[29.7304476828826...|[0.59460895365765...|       0.0|\n",
            "|[0.0,117.0,80.0,3...|      0|[39.1240571111349...|[0.78248114222269...|       0.0|\n",
            "|[0.0,118.0,84.0,4...|      1|[22.5655318932091...|[0.45131063786418...|       1.0|\n",
            "|[0.0,119.0,64.0,1...|      0|[38.5312523057210...|[0.77062504611442...|       0.0|\n",
            "|[0.0,124.0,70.0,2...|      1|[38.0675583351676...|[0.76135116670335...|       0.0|\n",
            "|[0.0,131.0,88.0,0...|      1|[23.2199338955860...|[0.46439867791172...|       1.0|\n",
            "|[0.0,140.0,65.0,2...|      1|[31.7245172540474...|[0.63449034508094...|       0.0|\n",
            "|[0.0,146.0,70.0,0...|      1|[27.2794166797867...|[0.54558833359573...|       0.0|\n",
            "|[0.0,147.0,85.0,5...|      0|[22.2177275795744...|[0.44435455159148...|       1.0|\n",
            "|[0.0,161.0,50.0,0...|      0|[25.5989898928194...|[0.51197979785638...|       0.0|\n",
            "|[0.0,162.0,76.0,5...|      1|[16.0963174644046...|[0.32192634928809...|       1.0|\n",
            "+--------------------+-------+--------------------+--------------------+----------+\n",
            "only showing top 20 rows\n",
            "\n"
          ]
        }
      ]
    },
    {
      "cell_type": "markdown",
      "source": [
        "Kode tersebut mengimpor kelas BinaryClassificationEvaluator dari modul pyspark.ml.evaluation. BinaryClassificationEvaluator adalah evaluator yang digunakan untuk mengevaluasi kinerja model klasifikasi biner. Evaluator ini dapat digunakan untuk menghitung metrik evaluasi seperti area under ROC curve (AUC), area under precision-recall curve (PR AUC), dan sebagainya."
      ],
      "metadata": {
        "id": "ua101xuJastY"
      }
    },
    {
      "cell_type": "code",
      "source": [
        "from pyspark.ml.evaluation import BinaryClassificationEvaluator"
      ],
      "metadata": {
        "id": "TfgB-TPUW6M1"
      },
      "execution_count": 53,
      "outputs": []
    },
    {
      "cell_type": "markdown",
      "source": [
        "Kode tersebut menggunakan evaluator BinaryClassificationEvaluator untuk menghitung nilai AUC (Area Under the ROC Curve) dari prediksi model RandomForestClassifier pada DataFrame \"rf_prediction\". Evaluator ini menggunakan kolom \"outcome\" sebagai labelCol (kolom target) untuk membandingkan hasil prediksi dengan nilai sebenarnya dan menghasilkan skor AUC. Skor AUC kemudian disimpan dalam variabel \"rf_auc\"."
      ],
      "metadata": {
        "id": "ld58mQCKa39D"
      }
    },
    {
      "cell_type": "code",
      "source": [
        "rf_auc = BinaryClassificationEvaluator(labelCol=\"outcome\").evaluate(rf_prediction)"
      ],
      "metadata": {
        "id": "94zVR7GgXB9C"
      },
      "execution_count": 54,
      "outputs": []
    },
    {
      "cell_type": "markdown",
      "source": [
        "Kode tersebut menghasilkan nilai AUC (Area Under the ROC Curve) yang telah dihitung menggunakan evaluator BinaryClassificationEvaluator. Nilai AUC tersebut disimpan dalam variabel \"rf_auc\" dan dapat digunakan untuk mengevaluasi kinerja model RandomForestClassifier."
      ],
      "metadata": {
        "id": "4Cu3U0lGbFwM"
      }
    },
    {
      "cell_type": "code",
      "source": [
        "rf_auc"
      ],
      "metadata": {
        "colab": {
          "base_uri": "https://localhost:8080/"
        },
        "id": "Aqwl-9f0XOWs",
        "outputId": "a2fc4590-f030-422f-a7ca-9a18a7e47eaa"
      },
      "execution_count": 55,
      "outputs": [
        {
          "output_type": "execute_result",
          "data": {
            "text/plain": [
              "0.8506161971830987"
            ]
          },
          "metadata": {},
          "execution_count": 55
        }
      ]
    },
    {
      "cell_type": "code",
      "source": [
        "df.columns"
      ],
      "metadata": {
        "colab": {
          "base_uri": "https://localhost:8080/"
        },
        "id": "slOY4AyCXY46",
        "outputId": "f6d73274-9fdd-40ca-f355-dc44055e9bf3"
      },
      "execution_count": 57,
      "outputs": [
        {
          "output_type": "execute_result",
          "data": {
            "text/plain": [
              "['preg', 'gluc', 'bp', 'st', 'insu', 'bmi', 'pedi', 'age', 'outcome']"
            ]
          },
          "metadata": {},
          "execution_count": 57
        }
      ]
    },
    {
      "cell_type": "code",
      "source": [
        "rf_classifier.featureImportances"
      ],
      "metadata": {
        "colab": {
          "base_uri": "https://localhost:8080/"
        },
        "id": "63g44shVXQuK",
        "outputId": "e4a1ce0d-482b-4413-8f45-7f47b3f89bc5"
      },
      "execution_count": 61,
      "outputs": [
        {
          "output_type": "execute_result",
          "data": {
            "text/plain": [
              "SparseVector(8, {0: 0.0754, 1: 0.398, 2: 0.0405, 3: 0.0489, 4: 0.0477, 5: 0.1644, 6: 0.0757, 7: 0.1495})"
            ]
          },
          "metadata": {},
          "execution_count": 61
        }
      ]
    }
  ]
}